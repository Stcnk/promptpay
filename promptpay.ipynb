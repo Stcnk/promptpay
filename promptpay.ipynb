{
 "cells": [
  {
   "cell_type": "markdown",
   "metadata": {},
   "source": [
    "## simple coding"
   ]
  },
  {
   "cell_type": "code",
   "execution_count": 3,
   "metadata": {},
   "outputs": [
    {
     "name": "stdout",
     "output_type": "stream",
     "text": [
      "promptpay number: 1234567890\n",
      "amount : 10000\n"
     ]
    }
   ],
   "source": [
    "from promptpay import qrcode\n",
    "from PIL import Image\n",
    "\n",
    "promptpay = input(\"input your promptpay number: \")\n",
    "print(\"promptpay number:\", promptpay)\n",
    "amount = int(input(\"input your amount: \"))\n",
    "print(\"amount :\", amount)\n",
    "img= qrcode.generate_payload(promptpay, amount)\n",
    "qrcode.to_file(img, \"QRcode.png\")\n",
    "\n",
    "img = Image.open(\"QRcode.png\")\n",
    "\n",
    "img.show()\n"
   ]
  },
  {
   "cell_type": "markdown",
   "metadata": {},
   "source": [
    "## custom with logo"
   ]
  },
  {
   "cell_type": "code",
   "execution_count": 4,
   "metadata": {},
   "outputs": [],
   "source": [
    "import qrcode\n",
    "from PIL import Image\n",
    "\n",
    "def generate_qr_with_logo(data, output_path, logo_path=None):\n",
    "    # Generate QR code\n",
    "    qr = qrcode.QRCode(\n",
    "        version=1,\n",
    "        error_correction=qrcode.constants.ERROR_CORRECT_L,\n",
    "        box_size=20,\n",
    "        border=2,\n",
    "    )\n",
    "    qr.add_data(data)\n",
    "    qr.make(fit=True)\n",
    "    qr_img = qr.make_image(fill_color=\"black\", back_color=\"#F7F3F2\")\n",
    "\n",
    "    # If logo path is provided, open and resize the logo\n",
    "    if logo_path:\n",
    "        logo = Image.open(logo_path)\n",
    "        # logo_width, logo_height = logo.size\n",
    "        qr_width, qr_height = qr_img.size\n",
    "        logo_size = min(qr_width, qr_height) // 4\n",
    "\n",
    "        x = (qr_width - logo_size) // 2\n",
    "        y = (qr_height - logo_size) // 2\n",
    "\n",
    "        logo = logo.resize((logo_size, logo_size))\n",
    "\n",
    "        qr_img_with_logo = qr_img.copy()\n",
    "        qr_img_with_logo.paste(logo, (x, y))\n",
    "\n",
    "        qr_img_with_logo.save(output_path.replace(\".png\", \"_with_logo.png\"))\n",
    "        qr_img_with_logo.show()\n",
    "\n",
    "    qr_img.save(output_path)\n",
    "\n",
    "    qr_img.show()\n",
    "\n",
    "data = \"0987654321\"  # Input the data for the QR code\n",
    "output_path = \"img_QRcode.png\"  # Input the output file path\n",
    "logo_path = \"image-asset.jpeg\"  # Input the path to the logo image (optional)\n",
    "\n",
    "generate_qr_with_logo(data, output_path, logo_path)\n"
   ]
  },
  {
   "cell_type": "code",
   "execution_count": null,
   "metadata": {},
   "outputs": [],
   "source": []
  }
 ],
 "metadata": {
  "kernelspec": {
   "display_name": "Python 3",
   "language": "python",
   "name": "python3"
  },
  "language_info": {
   "codemirror_mode": {
    "name": "ipython",
    "version": 3
   },
   "file_extension": ".py",
   "mimetype": "text/x-python",
   "name": "python",
   "nbconvert_exporter": "python",
   "pygments_lexer": "ipython3",
   "version": "3.9.6"
  }
 },
 "nbformat": 4,
 "nbformat_minor": 2
}
